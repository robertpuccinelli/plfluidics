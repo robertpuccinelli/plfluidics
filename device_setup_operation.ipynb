{
 "cells": [
  {
   "cell_type": "code",
   "execution_count": 3,
   "metadata": {},
   "outputs": [],
   "source": [
    "import logging\n",
    "from logging.handlers import TimedRotatingFileHandler\n",
    "import os\n",
    "from time import sleep\n",
    "from server.valve_controller import ValveControllerRGS\n"
   ]
  },
  {
   "cell_type": "code",
   "execution_count": 4,
   "metadata": {},
   "outputs": [],
   "source": [
    "cdir = os.getcwd()\n",
    "ndir = os.path.join(cdir, \"logs\")\n",
    "os.makedirs(ndir, exist_ok=True)\n",
    "filename = \"device_setup_operation.ipynb\"\n",
    "\n",
    "logger = logging.getLogger()\n",
    "logger.setLevel(logging.INFO)\n",
    "\n",
    "formatter = logging.Formatter('%(asctime)s - %(levelname)s - %(message)s [%(name)s]', datefmt='%H:%M:%S')\n",
    "handler_file = TimedRotatingFileHandler(filename=cdir + '/logs/' + filename + '.log', when='m', interval=1, backupCount=1)\n",
    "handler_file.setLevel(logging.INFO)\n",
    "handler_file.setFormatter(formatter)\n",
    "\n",
    "logger.addHandler(handler_file)\n",
    "\n",
    "logger.info('Beginning script : HW Test RGS Controller')\n",
    "\n",
    "valves = []\n",
    "valve_names = ['OUT', 'IN', 'WASH', 'BSA', 'STREP', 'AB', 'EXTRA', 'PHAGE', 'WASTE', 'P1', 'P2', 'P3']\n",
    "\n",
    "pol = False\n",
    "state = False\n",
    "\n",
    "for i in range(7):\n",
    "    valves.append([i,pol,state,valve_names[i]])\n",
    "\n",
    "valves.append([7,pol,state])\n",
    "valves.append([11,pol,state,valve_names[7]]) # Defunct wiring\n",
    "valves.append([8,pol,state,valve_names[8]])\n",
    "\n",
    "#for i in range(9,16):\n",
    "#    valves.append([i,pol,state])\n",
    "\n",
    "valves.append([16, pol, state, valve_names[9]])\n",
    "valves.append([17, pol, state, valve_names[10]])\n",
    "valves.append([18, pol, state, valve_names[11]])\n",
    "\n",
    "for i in range(19,24):\n",
    "    valves.append([i,pol,state])\n",
    "\n"
   ]
  },
  {
   "cell_type": "code",
   "execution_count": 7,
   "metadata": {},
   "outputs": [],
   "source": [
    "VCRGS = ValveControllerRGS(valves)"
   ]
  },
  {
   "cell_type": "code",
   "execution_count": 15,
   "metadata": {},
   "outputs": [],
   "source": [
    "logger.info('Opening valves sequentially.')\n",
    "for valve in valve_names:\n",
    "    VCRGS.setValvesOpen([valve])\n",
    "    sleep(0.01)"
   ]
  },
  {
   "cell_type": "code",
   "execution_count": 18,
   "metadata": {},
   "outputs": [],
   "source": [
    "# Pressurize all valves\n",
    "logger.info('Closing valves sequentially.')\n",
    "for valve in valve_names:\n",
    "    VCRGS.setValvesClose([valve])\n",
    "    sleep(0.01)"
   ]
  },
  {
   "cell_type": "code",
   "execution_count": 17,
   "metadata": {},
   "outputs": [],
   "source": [
    "# Debubble inputs\n",
    "\n",
    "VCRGS.setValvesClose([\"IN\"])\n",
    "VCRGS.setValvesOpen([\"WASTE\"])\n",
    "\n",
    "#purge_valves = [\"PHAGE\"]\n",
    "purge_valves = [\"WASH\",\"PHAGE\",\"WASH\",\"EXTRA\",\"WASH\",\"AB\",\"WASH\",\"STREP\",\"WASH\",\"BSA\"]\n",
    "\n",
    "for bub in purge_valves:\n",
    "    VCRGS.setValvesOpen([bub])\n",
    "    sleep(1)\n",
    "    VCRGS.setValvesClose([bub])\n",
    "VCRGS.setValvesClose([\"WASTE\"])\n",
    "VCRGS.setValvesOpen([\"IN\"])"
   ]
  },
  {
   "cell_type": "code",
   "execution_count": null,
   "metadata": {},
   "outputs": [],
   "source": [
    "buffer = \"BSA\"\n",
    "VCRGS.setValvesOpen([\"WASTE\", buffer])\n",
    "sleep(1)\n",
    "VCRGS.setValvesClose([ buffer])"
   ]
  },
  {
   "cell_type": "code",
   "execution_count": null,
   "metadata": {},
   "outputs": [],
   "source": [
    "# Debubble flow path\n",
    "\n",
    "VCRGS.setValvesClose([\"WASTE\"])\n",
    "VCRGS.setValvesOpen([\"BSA\"])\n"
   ]
  },
  {
   "cell_type": "code",
   "execution_count": null,
   "metadata": {},
   "outputs": [],
   "source": [
    "# Pass BSA to OUT\n",
    "VCRGS.setValvesOpen([\"OUT\",\"IN\"])"
   ]
  },
  {
   "cell_type": "code",
   "execution_count": null,
   "metadata": {},
   "outputs": [],
   "source": [
    "# Close out to degas flow path\n",
    "VCRGS.setValvesClose([\"OUT\"])"
   ]
  },
  {
   "cell_type": "code",
   "execution_count": null,
   "metadata": {},
   "outputs": [],
   "source": [
    "# Stop flowing BSA\n",
    "VCRGS.setValvesOpen([\"OUT\",\"IN\",\"WASH\"])\n",
    "sleep(1800)\n",
    "VCRGS.setValvesClose([\"WASH\"])"
   ]
  },
  {
   "cell_type": "code",
   "execution_count": null,
   "metadata": {},
   "outputs": [],
   "source": [
    "# Debubble\n",
    "buffer = \"BSA\"\n",
    "VCRGS.setValvesClose([\"IN\"])\n",
    "VCRGS.setValvesOpen([\"WASTE\",buffer])\n",
    "sleep(1)\n",
    "VCRGS.setValvesClose([\"WASTE\",buffer])"
   ]
  },
  {
   "cell_type": "code",
   "execution_count": null,
   "metadata": {},
   "outputs": [],
   "source": [
    "# Functionalize\n",
    "buffers = [\"BSA\",\"STREP\",\"AB\", \"EXTRA\"]\n",
    "\n",
    "VCRGS.setValvesOpen([\"OUT\"])\n",
    "\n",
    "for b in buffers:\n",
    "    VCRGS.setValvesOpen([b])\n",
    "    sleep(600)\n",
    "    VCRGS.setValvesClose([b])\n",
    "    VCRGS.setValvesOpen([\"WASH\"])\n",
    "    sleep(1800)\n",
    "    VCRGS.setValvesClose([\"WASH\"])"
   ]
  },
  {
   "cell_type": "code",
   "execution_count": null,
   "metadata": {},
   "outputs": [],
   "source": [
    "VCRGS.setValvesOpen([\"PHAGE\"])\n",
    "sleep(600)\n",
    "VCRGS.setValvesClose([\"PHAGE\"])\n",
    "VCRGS.setValvesOpen([\"WASH\"])\n",
    "sleep(3600)\n",
    "VCRGS.setValvesClose([\"WASH\"])"
   ]
  },
  {
   "cell_type": "code",
   "execution_count": null,
   "metadata": {},
   "outputs": [],
   "source": [
    "# Execute surface functionalization\n",
    "\n",
    "buffers = [\"WASH\",\"STREP\",\"WASH\",\"AB\",\"WASH\",\"EXTRA\",\"WASH\"]\n",
    "\n",
    "for buffer in buffers:\n",
    "    VCRGS.setValvesOpen([buffer])\n",
    "    if buffer == \"WASH\":\n",
    "        sleep(1800)\n",
    "    else:\n",
    "        sleep(600)\n",
    "    VCRGS.setValvesClose([buffer])\n",
    "\n",
    "\n"
   ]
  },
  {
   "cell_type": "code",
   "execution_count": null,
   "metadata": {},
   "outputs": [],
   "source": [
    "# Debubble secondary antibody and flow\n",
    "VCRGS.setValvesClose([\"IN\"])\n",
    "VCRGS.setValvesOpen([\"PHAGE\",\"WASTE\"])\n",
    "sleep(1)\n",
    "VCRGS.setValvesClose([\"WASTE\"])\n",
    "VCRGS.setValvesOpen([\"IN\"])\n",
    "sleep(600)\n",
    "VCRGS.setValvesClose[\"PHAGE\"]\n",
    "\n",
    "# Final 60m wash for imaging\n",
    "VCRGS.setValvesOpen([\"WASH\"])\n",
    "sleep(3600)\n",
    "VCRGS.setValvesClose([\"WASH\"])"
   ]
  },
  {
   "cell_type": "code",
   "execution_count": null,
   "metadata": {},
   "outputs": [],
   "source": [
    "VCRGS.setValvesOpen([\"WASH\"])"
   ]
  },
  {
   "cell_type": "code",
   "execution_count": null,
   "metadata": {},
   "outputs": [],
   "source": [
    "VCRGS.setValvesClose([\"WASH\",\"IN\"])\n",
    "VCRGS.setValvesOpen([\"WASTE\",\"PHAGE\"])\n",
    "sleep(1)\n",
    "VCRGS.setValvesClose([\"WASTE\"])"
   ]
  },
  {
   "cell_type": "code",
   "execution_count": null,
   "metadata": {},
   "outputs": [],
   "source": [
    "VCRGS.setValvesOpen([\"IN\"])\n",
    "sleep(600)\n",
    "VCRGS.setValvesClose([\"PHAGE\"])\n",
    "VCRGS.setValvesOpen([\"WASH\"])\n",
    "sleep(3600)\n",
    "VCRGS.setValvesClose([\"OUT\",\"WASH\"])"
   ]
  },
  {
   "cell_type": "code",
   "execution_count": null,
   "metadata": {},
   "outputs": [],
   "source": [
    "VCRGS.setValvesClose([\"WASTE\"])\n",
    "VCRGS.setValvesOpen([\"BSA\"])\n"
   ]
  },
  {
   "cell_type": "code",
   "execution_count": null,
   "metadata": {},
   "outputs": [],
   "source": [
    "VCRGS.setValvesOpen([\"WASTE\",\"PHAGE\"])"
   ]
  },
  {
   "cell_type": "code",
   "execution_count": null,
   "metadata": {},
   "outputs": [],
   "source": [
    "VCRGS.setValvesClose([\"WASTE\"])"
   ]
  },
  {
   "cell_type": "code",
   "execution_count": null,
   "metadata": {},
   "outputs": [],
   "source": [
    "VCRGS.setValvesClose([\"IN\"])\n",
    "VCRGS.setValvesOpen([\"WASTE\",\"EXTRA\"])\n",
    "sleep(1)\n",
    "VCRGS.setValvesClose([\"WASTE\"])"
   ]
  },
  {
   "cell_type": "code",
   "execution_count": null,
   "metadata": {},
   "outputs": [
    {
     "ename": "DeviceError",
     "evalue": "IO_ERROR",
     "output_type": "error",
     "traceback": [
      "\u001b[1;31m---------------------------------------------------------------------------\u001b[0m",
      "\u001b[1;31mDeviceError\u001b[0m                               Traceback (most recent call last)",
      "Cell \u001b[1;32mIn[8], line 6\u001b[0m\n\u001b[0;32m      4\u001b[0m VCRGS\u001b[38;5;241m.\u001b[39msetValvesClose([\u001b[38;5;124m\"\u001b[39m\u001b[38;5;124mWASH\u001b[39m\u001b[38;5;124m\"\u001b[39m])\n\u001b[0;32m      5\u001b[0m sleep(\u001b[38;5;241m3600\u001b[39m)\n\u001b[1;32m----> 6\u001b[0m \u001b[43mVCRGS\u001b[49m\u001b[38;5;241;43m.\u001b[39;49m\u001b[43msetValvesOpen\u001b[49m\u001b[43m(\u001b[49m\u001b[43m[\u001b[49m\u001b[38;5;124;43m\"\u001b[39;49m\u001b[38;5;124;43mWASH\u001b[39;49m\u001b[38;5;124;43m\"\u001b[39;49m\u001b[43m]\u001b[49m\u001b[43m)\u001b[49m\n",
      "File \u001b[1;32m~\\git_Windows\\microfluidics_software\\plfluidics\\valve_controller.py:42\u001b[0m, in \u001b[0;36mValveController.setValvesOpen\u001b[1;34m(self, valve_list)\u001b[0m\n\u001b[0;32m     40\u001b[0m \u001b[38;5;28;01mdef\u001b[39;00m \u001b[38;5;21msetValvesOpen\u001b[39m(\u001b[38;5;28mself\u001b[39m, valve_list: \u001b[38;5;28mlist\u001b[39m):\n\u001b[0;32m     41\u001b[0m     \u001b[38;5;28;01mfor\u001b[39;00m valve \u001b[38;5;129;01min\u001b[39;00m valve_list:\n\u001b[1;32m---> 42\u001b[0m         \u001b[38;5;28;43mself\u001b[39;49m\u001b[38;5;241;43m.\u001b[39;49m\u001b[43mvalve_dict\u001b[49m\u001b[43m[\u001b[49m\u001b[43mvalve\u001b[49m\u001b[43m]\u001b[49m\u001b[38;5;241;43m.\u001b[39;49m\u001b[43msetStateOpen\u001b[49m\u001b[43m(\u001b[49m\u001b[43m)\u001b[49m\n\u001b[0;32m     43\u001b[0m         logger\u001b[38;5;241m.\u001b[39minfo(\u001b[38;5;124m'\u001b[39m\u001b[38;5;124mValve set to open - \u001b[39m\u001b[38;5;132;01m{}\u001b[39;00m\u001b[38;5;124m'\u001b[39m\u001b[38;5;241m.\u001b[39mformat(valve))\n",
      "File \u001b[1;32m~\\git_Windows\\microfluidics_software\\plfluidics\\valve.py:63\u001b[0m, in \u001b[0;36mValve.setStateOpen\u001b[1;34m(self)\u001b[0m\n\u001b[0;32m     61\u001b[0m \u001b[38;5;28;01mdef\u001b[39;00m \u001b[38;5;21msetStateOpen\u001b[39m(\u001b[38;5;28mself\u001b[39m):\n\u001b[0;32m     62\u001b[0m     logger\u001b[38;5;241m.\u001b[39minfo(\u001b[38;5;124m'\u001b[39m\u001b[38;5;124mOpening valve : \u001b[39m\u001b[38;5;132;01m{}\u001b[39;00m\u001b[38;5;124m'\u001b[39m\u001b[38;5;241m.\u001b[39mformat(\u001b[38;5;28mself\u001b[39m\u001b[38;5;241m.\u001b[39maddress))\n\u001b[1;32m---> 63\u001b[0m     \u001b[38;5;28;43mself\u001b[39;49m\u001b[38;5;241;43m.\u001b[39;49m\u001b[43m_setState\u001b[49m\u001b[43m(\u001b[49m\u001b[38;5;28;43;01mFalse\u001b[39;49;00m\u001b[43m)\u001b[49m\n",
      "File \u001b[1;32m~\\git_Windows\\microfluidics_software\\plfluidics\\valve.py:72\u001b[0m, in \u001b[0;36mValve._setState\u001b[1;34m(self, operation)\u001b[0m\n\u001b[0;32m     67\u001b[0m output \u001b[38;5;241m=\u001b[39m \u001b[38;5;28mself\u001b[39m\u001b[38;5;241m.\u001b[39mpolarity\u001b[38;5;241m^\u001b[39moperation\n\u001b[0;32m     68\u001b[0m logger\u001b[38;5;241m.\u001b[39mdebug(\u001b[38;5;124m'\u001b[39m\u001b[38;5;124mWriting to valve. Valve:\u001b[39m\u001b[38;5;132;01m{}\u001b[39;00m\u001b[38;5;124m, State:\u001b[39m\u001b[38;5;132;01m{}\u001b[39;00m\u001b[38;5;124m, Output:\u001b[39m\u001b[38;5;132;01m{}\u001b[39;00m\u001b[38;5;124m'\u001b[39m\u001b[38;5;241m.\u001b[39mformat(\n\u001b[0;32m     69\u001b[0m     \u001b[38;5;28mself\u001b[39m\u001b[38;5;241m.\u001b[39maddress,\n\u001b[0;32m     70\u001b[0m     operation,\n\u001b[0;32m     71\u001b[0m     output))\n\u001b[1;32m---> 72\u001b[0m \u001b[38;5;28;43mself\u001b[39;49m\u001b[38;5;241;43m.\u001b[39;49m\u001b[43m_writeState\u001b[49m\u001b[43m(\u001b[49m\u001b[43moutput\u001b[49m\u001b[43m)\u001b[49m\n\u001b[0;32m     73\u001b[0m \u001b[38;5;28mself\u001b[39m\u001b[38;5;241m.\u001b[39m_state \u001b[38;5;241m=\u001b[39m operation\n",
      "File \u001b[1;32m~\\git_Windows\\microfluidics_software\\plfluidics\\valve.py:94\u001b[0m, in \u001b[0;36mValveRGS._writeState\u001b[1;34m(self, output)\u001b[0m\n\u001b[0;32m     92\u001b[0m \u001b[38;5;28;01melse\u001b[39;00m:\n\u001b[0;32m     93\u001b[0m     cmd \u001b[38;5;241m=\u001b[39m \u001b[38;5;28mself\u001b[39m\u001b[38;5;241m.\u001b[39m_command(\u001b[38;5;124m'\u001b[39m\u001b[38;5;124mL\u001b[39m\u001b[38;5;124m'\u001b[39m, \u001b[38;5;28mself\u001b[39m\u001b[38;5;241m.\u001b[39maddress)\n\u001b[1;32m---> 94\u001b[0m \u001b[38;5;28;43mself\u001b[39;49m\u001b[38;5;241;43m.\u001b[39;49m\u001b[43mdevice\u001b[49m\u001b[38;5;241;43m.\u001b[39;49m\u001b[43mwrite\u001b[49m\u001b[43m(\u001b[49m\u001b[43mcmd\u001b[49m\u001b[43m)\u001b[49m     \n\u001b[0;32m     95\u001b[0m logger\u001b[38;5;241m.\u001b[39mdebug(\u001b[38;5;124m'\u001b[39m\u001b[38;5;124mValve set. \u001b[39m\u001b[38;5;132;01m{}\u001b[39;00m\u001b[38;5;124m : \u001b[39m\u001b[38;5;132;01m{}\u001b[39;00m\u001b[38;5;124m'\u001b[39m\u001b[38;5;241m.\u001b[39mformat(\u001b[38;5;28mself\u001b[39m\u001b[38;5;241m.\u001b[39maddress, cmd))\n",
      "File \u001b[1;32mc:\\Users\\Robby\\git_Windows\\microfluidics_software\\venv_microfluidics\\Lib\\site-packages\\ftd2xx\\ftd2xx.py:384\u001b[0m, in \u001b[0;36mFTD2XX.write\u001b[1;34m(self, data)\u001b[0m\n\u001b[0;32m    381\u001b[0m \u001b[38;5;250m\u001b[39m\u001b[38;5;124;03m\"\"\"Send the data to the device. Data must be a string representing the\u001b[39;00m\n\u001b[0;32m    382\u001b[0m \u001b[38;5;124;03mbytes to be sent\"\"\"\u001b[39;00m\n\u001b[0;32m    383\u001b[0m w \u001b[38;5;241m=\u001b[39m _ft\u001b[38;5;241m.\u001b[39mDWORD()\n\u001b[1;32m--> 384\u001b[0m \u001b[43mcall_ft\u001b[49m\u001b[43m(\u001b[49m\u001b[43m_ft\u001b[49m\u001b[38;5;241;43m.\u001b[39;49m\u001b[43mFT_Write\u001b[49m\u001b[43m,\u001b[49m\u001b[43m \u001b[49m\u001b[38;5;28;43mself\u001b[39;49m\u001b[38;5;241;43m.\u001b[39;49m\u001b[43mhandle\u001b[49m\u001b[43m,\u001b[49m\u001b[43m \u001b[49m\u001b[43mdata\u001b[49m\u001b[43m,\u001b[49m\u001b[43m \u001b[49m\u001b[38;5;28;43mlen\u001b[39;49m\u001b[43m(\u001b[49m\u001b[43mdata\u001b[49m\u001b[43m)\u001b[49m\u001b[43m,\u001b[49m\u001b[43m \u001b[49m\u001b[43mc\u001b[49m\u001b[38;5;241;43m.\u001b[39;49m\u001b[43mbyref\u001b[49m\u001b[43m(\u001b[49m\u001b[43mw\u001b[49m\u001b[43m)\u001b[49m\u001b[43m)\u001b[49m\n\u001b[0;32m    385\u001b[0m \u001b[38;5;28;01mreturn\u001b[39;00m w\u001b[38;5;241m.\u001b[39mvalue\n",
      "File \u001b[1;32mc:\\Users\\Robby\\git_Windows\\microfluidics_software\\venv_microfluidics\\Lib\\site-packages\\ftd2xx\\ftd2xx.py:178\u001b[0m, in \u001b[0;36mcall_ft\u001b[1;34m(function, *args)\u001b[0m\n\u001b[0;32m    176\u001b[0m status \u001b[38;5;241m=\u001b[39m function(\u001b[38;5;241m*\u001b[39margs)\n\u001b[0;32m    177\u001b[0m \u001b[38;5;28;01mif\u001b[39;00m status \u001b[38;5;241m!=\u001b[39m defines\u001b[38;5;241m.\u001b[39mStatus\u001b[38;5;241m.\u001b[39mOK:\n\u001b[1;32m--> 178\u001b[0m     \u001b[38;5;28;01mraise\u001b[39;00m DeviceError(status)\n",
      "\u001b[1;31mDeviceError\u001b[0m: IO_ERROR"
     ]
    }
   ],
   "source": [
    "VCRGS.setValvesOpen([\"IN\"])\n",
    "sleep(600)\n",
    "VCRGS.setValvesClose([\"EXTRA\"])\n",
    "VCRGS.setValvesOpen([\"WASH\"])\n",
    "sleep(3600)\n",
    "VCRGS.setValvesClose([\"WASH\"])"
   ]
  },
  {
   "cell_type": "code",
   "execution_count": null,
   "metadata": {},
   "outputs": [],
   "source": []
  }
 ],
 "metadata": {
  "kernelspec": {
   "display_name": "venv_microfluidics",
   "language": "python",
   "name": "python3"
  },
  "language_info": {
   "codemirror_mode": {
    "name": "ipython",
    "version": 3
   },
   "file_extension": ".py",
   "mimetype": "text/x-python",
   "name": "python",
   "nbconvert_exporter": "python",
   "pygments_lexer": "ipython3",
   "version": "3.13.0"
  }
 },
 "nbformat": 4,
 "nbformat_minor": 2
}
